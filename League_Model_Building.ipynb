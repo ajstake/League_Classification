{
 "cells": [
  {
   "cell_type": "markdown",
   "id": "b4921fbe",
   "metadata": {},
   "source": [
    "Now that the data is cleaned up and we have an initial model, we can build a better one by adding more features and testing other model options to examine their fit."
   ]
  },
  {
   "cell_type": "code",
   "execution_count": 1,
   "id": "25a39b7f",
   "metadata": {},
   "outputs": [],
   "source": [
    "import pandas as pd\n",
    "import numpy as np\n",
    "import matplotlib.pyplot as plt\n",
    "import seaborn as sns\n",
    "from sklearn.linear_model import LogisticRegression\n",
    "from sklearn.model_selection import train_test_split\n",
    "from sklearn.metrics import precision_score, recall_score, precision_recall_curve,f1_score, fbeta_score, confusion_matrix\n",
    "from sklearn.tree import DecisionTreeClassifier\n",
    "from sklearn.ensemble import RandomForestClassifier\n",
    "from sklearn.model_selection import cross_val_score\n",
    "from sklearn.model_selection import GridSearchCV\n",
    "from sklearn.preprocessing import StandardScaler"
   ]
  },
  {
   "cell_type": "code",
   "execution_count": 2,
   "id": "57de1c4d",
   "metadata": {},
   "outputs": [
    {
     "data": {
      "text/html": [
       "<div>\n",
       "<style scoped>\n",
       "    .dataframe tbody tr th:only-of-type {\n",
       "        vertical-align: middle;\n",
       "    }\n",
       "\n",
       "    .dataframe tbody tr th {\n",
       "        vertical-align: top;\n",
       "    }\n",
       "\n",
       "    .dataframe thead th {\n",
       "        text-align: right;\n",
       "    }\n",
       "</style>\n",
       "<table border=\"1\" class=\"dataframe\">\n",
       "  <thead>\n",
       "    <tr style=\"text-align: right;\">\n",
       "      <th></th>\n",
       "      <th>blue_win</th>\n",
       "      <th>blueGold</th>\n",
       "      <th>blueMinionsKilled</th>\n",
       "      <th>blueJungleMin</th>\n",
       "      <th>blueAvgLevel</th>\n",
       "      <th>redGold</th>\n",
       "      <th>redMinionsKilled</th>\n",
       "      <th>redJungleMinionsKilled</th>\n",
       "      <th>redAvgLevel</th>\n",
       "      <th>blueChampKills</th>\n",
       "      <th>blueHeraldKills</th>\n",
       "      <th>blueTowersDestroyed</th>\n",
       "      <th>redChampKills</th>\n",
       "      <th>redHeraldKills</th>\n",
       "      <th>redTowersDestroyed</th>\n",
       "      <th>blueGold_Diff</th>\n",
       "      <th>winner</th>\n",
       "      <th>blueChamp_Kills_Diff</th>\n",
       "    </tr>\n",
       "  </thead>\n",
       "  <tbody>\n",
       "    <tr>\n",
       "      <th>0</th>\n",
       "      <td>0</td>\n",
       "      <td>24575.0</td>\n",
       "      <td>349.0</td>\n",
       "      <td>89.0</td>\n",
       "      <td>8.6</td>\n",
       "      <td>25856.0</td>\n",
       "      <td>346.0</td>\n",
       "      <td>80.0</td>\n",
       "      <td>9.2</td>\n",
       "      <td>6.0</td>\n",
       "      <td>1.0</td>\n",
       "      <td>1.0</td>\n",
       "      <td>12.0</td>\n",
       "      <td>2.0</td>\n",
       "      <td>1.0</td>\n",
       "      <td>-1281.0</td>\n",
       "      <td>Red</td>\n",
       "      <td>-6.0</td>\n",
       "    </tr>\n",
       "    <tr>\n",
       "      <th>1</th>\n",
       "      <td>0</td>\n",
       "      <td>27210.0</td>\n",
       "      <td>290.0</td>\n",
       "      <td>36.0</td>\n",
       "      <td>9.0</td>\n",
       "      <td>28765.0</td>\n",
       "      <td>294.0</td>\n",
       "      <td>92.0</td>\n",
       "      <td>9.4</td>\n",
       "      <td>20.0</td>\n",
       "      <td>0.0</td>\n",
       "      <td>0.0</td>\n",
       "      <td>19.0</td>\n",
       "      <td>2.0</td>\n",
       "      <td>0.0</td>\n",
       "      <td>-1555.0</td>\n",
       "      <td>Red</td>\n",
       "      <td>1.0</td>\n",
       "    </tr>\n",
       "    <tr>\n",
       "      <th>2</th>\n",
       "      <td>1</td>\n",
       "      <td>32048.0</td>\n",
       "      <td>346.0</td>\n",
       "      <td>92.0</td>\n",
       "      <td>9.4</td>\n",
       "      <td>25305.0</td>\n",
       "      <td>293.0</td>\n",
       "      <td>84.0</td>\n",
       "      <td>9.4</td>\n",
       "      <td>17.0</td>\n",
       "      <td>3.0</td>\n",
       "      <td>0.0</td>\n",
       "      <td>11.0</td>\n",
       "      <td>0.0</td>\n",
       "      <td>4.0</td>\n",
       "      <td>6743.0</td>\n",
       "      <td>Blue</td>\n",
       "      <td>6.0</td>\n",
       "    </tr>\n",
       "    <tr>\n",
       "      <th>3</th>\n",
       "      <td>0</td>\n",
       "      <td>20261.0</td>\n",
       "      <td>223.0</td>\n",
       "      <td>60.0</td>\n",
       "      <td>8.2</td>\n",
       "      <td>30429.0</td>\n",
       "      <td>356.0</td>\n",
       "      <td>107.0</td>\n",
       "      <td>9.4</td>\n",
       "      <td>7.0</td>\n",
       "      <td>0.0</td>\n",
       "      <td>3.0</td>\n",
       "      <td>16.0</td>\n",
       "      <td>3.0</td>\n",
       "      <td>0.0</td>\n",
       "      <td>-10168.0</td>\n",
       "      <td>Red</td>\n",
       "      <td>-9.0</td>\n",
       "    </tr>\n",
       "    <tr>\n",
       "      <th>4</th>\n",
       "      <td>1</td>\n",
       "      <td>30217.0</td>\n",
       "      <td>376.0</td>\n",
       "      <td>110.0</td>\n",
       "      <td>9.8</td>\n",
       "      <td>23889.0</td>\n",
       "      <td>334.0</td>\n",
       "      <td>60.0</td>\n",
       "      <td>8.8</td>\n",
       "      <td>16.0</td>\n",
       "      <td>3.0</td>\n",
       "      <td>0.0</td>\n",
       "      <td>8.0</td>\n",
       "      <td>0.0</td>\n",
       "      <td>2.0</td>\n",
       "      <td>6328.0</td>\n",
       "      <td>Blue</td>\n",
       "      <td>8.0</td>\n",
       "    </tr>\n",
       "  </tbody>\n",
       "</table>\n",
       "</div>"
      ],
      "text/plain": [
       "   blue_win  blueGold  blueMinionsKilled  blueJungleMin  blueAvgLevel  \\\n",
       "0         0   24575.0              349.0           89.0           8.6   \n",
       "1         0   27210.0              290.0           36.0           9.0   \n",
       "2         1   32048.0              346.0           92.0           9.4   \n",
       "3         0   20261.0              223.0           60.0           8.2   \n",
       "4         1   30217.0              376.0          110.0           9.8   \n",
       "\n",
       "   redGold  redMinionsKilled  redJungleMinionsKilled  redAvgLevel  \\\n",
       "0  25856.0             346.0                    80.0          9.2   \n",
       "1  28765.0             294.0                    92.0          9.4   \n",
       "2  25305.0             293.0                    84.0          9.4   \n",
       "3  30429.0             356.0                   107.0          9.4   \n",
       "4  23889.0             334.0                    60.0          8.8   \n",
       "\n",
       "   blueChampKills  blueHeraldKills  blueTowersDestroyed  redChampKills  \\\n",
       "0             6.0              1.0                  1.0           12.0   \n",
       "1            20.0              0.0                  0.0           19.0   \n",
       "2            17.0              3.0                  0.0           11.0   \n",
       "3             7.0              0.0                  3.0           16.0   \n",
       "4            16.0              3.0                  0.0            8.0   \n",
       "\n",
       "   redHeraldKills  redTowersDestroyed  blueGold_Diff winner  \\\n",
       "0             2.0                 1.0        -1281.0    Red   \n",
       "1             2.0                 0.0        -1555.0    Red   \n",
       "2             0.0                 4.0         6743.0   Blue   \n",
       "3             3.0                 0.0       -10168.0    Red   \n",
       "4             0.0                 2.0         6328.0   Blue   \n",
       "\n",
       "   blueChamp_Kills_Diff  \n",
       "0                  -6.0  \n",
       "1                   1.0  \n",
       "2                   6.0  \n",
       "3                  -9.0  \n",
       "4                   8.0  "
      ]
     },
     "execution_count": 2,
     "metadata": {},
     "output_type": "execute_result"
    }
   ],
   "source": [
    "league_df = pd.read_csv('league_cleaned.csv')\n",
    "league_df.head()"
   ]
  },
  {
   "cell_type": "code",
   "execution_count": 3,
   "id": "15db6d25",
   "metadata": {},
   "outputs": [],
   "source": [
    "features = league_df.drop(columns=['winner']).iloc[:, 1:]\n",
    "target = league_df['blue_win']"
   ]
  },
  {
   "cell_type": "code",
   "execution_count": 4,
   "id": "a6a403ca",
   "metadata": {},
   "outputs": [],
   "source": [
    "X_train, X_test, y_train, y_test = train_test_split(features, target, test_size=0.2, random_state=42)"
   ]
  },
  {
   "cell_type": "markdown",
   "id": "1ca99106",
   "metadata": {},
   "source": [
    "Now that we have split into train and test we're going to use cross validation"
   ]
  },
  {
   "cell_type": "code",
   "execution_count": 5,
   "id": "d7be4be2",
   "metadata": {},
   "outputs": [],
   "source": [
    "log_reg = LogisticRegression()\n",
    "tree = DecisionTreeClassifier()\n",
    "forest = RandomForestClassifier()\n",
    "scaler = StandardScaler()"
   ]
  },
  {
   "cell_type": "code",
   "execution_count": 6,
   "id": "3af44788",
   "metadata": {},
   "outputs": [],
   "source": [
    "c_range = list(range(1, 101))\n",
    "log_params = dict(C=c_range)\n",
    "depths = list(range(1, 11))\n",
    "tree_params = dict(max_depth=depths)"
   ]
  },
  {
   "cell_type": "code",
   "execution_count": 7,
   "id": "2715aa58",
   "metadata": {},
   "outputs": [],
   "source": [
    "X_scaled = scaler.fit_transform(X_train)\n",
    "X_tr = scaler.transform(X_train.values)"
   ]
  },
  {
   "cell_type": "code",
   "execution_count": 8,
   "id": "6300f412",
   "metadata": {},
   "outputs": [
    {
     "data": {
      "text/plain": [
       "GridSearchCV(cv=5, estimator=LogisticRegression(),\n",
       "             param_grid={'C': [1, 2, 3, 4, 5, 6, 7, 8, 9, 10, 11, 12, 13, 14,\n",
       "                               15, 16, 17, 18, 19, 20, 21, 22, 23, 24, 25, 26,\n",
       "                               27, 28, 29, 30, ...]},\n",
       "             scoring='f1')"
      ]
     },
     "execution_count": 8,
     "metadata": {},
     "output_type": "execute_result"
    }
   ],
   "source": [
    "log_grid = GridSearchCV(log_reg, log_params, cv=5, scoring='f1')\n",
    "log_grid.fit(X_tr, y_train)"
   ]
  },
  {
   "cell_type": "code",
   "execution_count": 9,
   "id": "78360b61",
   "metadata": {},
   "outputs": [
    {
     "name": "stdout",
     "output_type": "stream",
     "text": [
      "0.7870889965254161\n",
      "{'C': 2}\n",
      "LogisticRegression(C=2)\n"
     ]
    }
   ],
   "source": [
    "print(log_grid.best_score_)\n",
    "print(log_grid.best_params_)\n",
    "print(log_grid.best_estimator_)"
   ]
  },
  {
   "cell_type": "code",
   "execution_count": 10,
   "id": "a2710154",
   "metadata": {},
   "outputs": [
    {
     "data": {
      "text/plain": [
       "GridSearchCV(cv=5, estimator=DecisionTreeClassifier(),\n",
       "             param_grid={'max_depth': [1, 2, 3, 4, 5, 6, 7, 8, 9, 10]},\n",
       "             scoring='f1')"
      ]
     },
     "execution_count": 10,
     "metadata": {},
     "output_type": "execute_result"
    }
   ],
   "source": [
    "tree_grid = GridSearchCV(tree, tree_params, cv=5, scoring='f1')\n",
    "tree_grid.fit(X_train, y_train)"
   ]
  },
  {
   "cell_type": "code",
   "execution_count": 11,
   "id": "93874754",
   "metadata": {},
   "outputs": [
    {
     "name": "stdout",
     "output_type": "stream",
     "text": [
      "0.7877078791176397\n",
      "{'max_depth': 4}\n",
      "DecisionTreeClassifier(max_depth=4)\n"
     ]
    }
   ],
   "source": [
    "print(tree_grid.best_score_)\n",
    "print(tree_grid.best_params_)\n",
    "print(tree_grid.best_estimator_)"
   ]
  },
  {
   "cell_type": "code",
   "execution_count": 13,
   "id": "8f1bbfb0",
   "metadata": {},
   "outputs": [
    {
     "data": {
      "text/plain": [
       "0.7877078791176397"
      ]
     },
     "execution_count": 13,
     "metadata": {},
     "output_type": "execute_result"
    }
   ],
   "source": [
    "tree_grid.best_score_"
   ]
  },
  {
   "cell_type": "code",
   "execution_count": 14,
   "id": "f5fbae9e",
   "metadata": {},
   "outputs": [
    {
     "data": {
      "text/plain": [
       "0.7875593565870272"
      ]
     },
     "execution_count": 14,
     "metadata": {},
     "output_type": "execute_result"
    }
   ],
   "source": [
    "f1_score(y_train, tree_grid.predict(X_train))"
   ]
  },
  {
   "cell_type": "code",
   "execution_count": 98,
   "id": "67f1a871",
   "metadata": {},
   "outputs": [],
   "source": [
    "tree_confuse = confusion_matrix(y_train, tree_grid.predict(X_train))"
   ]
  },
  {
   "cell_type": "code",
   "execution_count": 17,
   "id": "c5b9cff7",
   "metadata": {},
   "outputs": [
    {
     "data": {
      "text/plain": [
       "0.7874059910771192"
      ]
     },
     "execution_count": 17,
     "metadata": {},
     "output_type": "execute_result"
    }
   ],
   "source": [
    "f1_score(y_train, log_grid.predict(X_tr))"
   ]
  },
  {
   "cell_type": "code",
   "execution_count": 116,
   "id": "a3f57632",
   "metadata": {},
   "outputs": [],
   "source": [
    "log_train_confuse = confusion_matrix(y_train, log_grid.predict(X_tr))"
   ]
  },
  {
   "cell_type": "code",
   "execution_count": 19,
   "id": "18181214",
   "metadata": {},
   "outputs": [
    {
     "data": {
      "text/plain": [
       "0.7874059910771192"
      ]
     },
     "execution_count": 19,
     "metadata": {},
     "output_type": "execute_result"
    }
   ],
   "source": [
    "log_grid.score(X_tr, y_train)"
   ]
  },
  {
   "cell_type": "code",
   "execution_count": 20,
   "id": "07531e5f",
   "metadata": {},
   "outputs": [
    {
     "data": {
      "text/plain": [
       "0.7875593565870272"
      ]
     },
     "execution_count": 20,
     "metadata": {},
     "output_type": "execute_result"
    }
   ],
   "source": [
    "tree_grid.score(X_train, y_train)"
   ]
  },
  {
   "cell_type": "markdown",
   "id": "4514ad93",
   "metadata": {},
   "source": [
    "Based on this, the Regression Tree performs marginally better than the logistic regression model, so I'm going to use the regression model for its interpretability."
   ]
  },
  {
   "cell_type": "code",
   "execution_count": 21,
   "id": "dc02c6d8",
   "metadata": {},
   "outputs": [],
   "source": [
    "X_test_scaled = scaler.transform(X_test.values)"
   ]
  },
  {
   "cell_type": "code",
   "execution_count": 22,
   "id": "9928c68b",
   "metadata": {},
   "outputs": [
    {
     "data": {
      "text/plain": [
       "LogisticRegression(C=2)"
      ]
     },
     "execution_count": 22,
     "metadata": {},
     "output_type": "execute_result"
    }
   ],
   "source": [
    "log_reg.fit(X_test_scaled, y_test)"
   ]
  },
  {
   "cell_type": "code",
   "execution_count": 23,
   "id": "8180fc29",
   "metadata": {},
   "outputs": [
    {
     "data": {
      "text/plain": [
       "0.8006814310051107"
      ]
     },
     "execution_count": 23,
     "metadata": {},
     "output_type": "execute_result"
    }
   ],
   "source": [
    "f1_score(y_test, log_reg.predict(X_test_scaled))"
   ]
  },
  {
   "cell_type": "code",
   "execution_count": 114,
   "id": "24354efc",
   "metadata": {},
   "outputs": [],
   "source": [
    "log_reg_confuse = confusion_matrix(y_test, log_reg.predict(X_test_scaled))"
   ]
  },
  {
   "cell_type": "code",
   "execution_count": 25,
   "id": "dd5051a0",
   "metadata": {},
   "outputs": [
    {
     "data": {
      "text/plain": [
       "array([0.07432249])"
      ]
     },
     "execution_count": 25,
     "metadata": {},
     "output_type": "execute_result"
    }
   ],
   "source": [
    "log_reg.intercept_"
   ]
  },
  {
   "cell_type": "code",
   "execution_count": 113,
   "id": "86367210",
   "metadata": {},
   "outputs": [
    {
     "data": {
      "text/plain": [
       "0.7956016853355257"
      ]
     },
     "execution_count": 113,
     "metadata": {},
     "output_type": "execute_result"
    }
   ],
   "source": [
    "log_reg.score(X_test_scaled, y_test)"
   ]
  },
  {
   "cell_type": "code",
   "execution_count": 52,
   "id": "286d6f32",
   "metadata": {},
   "outputs": [],
   "source": [
    "log_reg.coef_\n",
    "coefficients = [ 0.62525814,  0.01158361,  0.05427513,  0.16869513, -0.35426446,\n",
    "        -0.10155253, -0.07487925, -0.25719062,  0.03126979,  0.14963612,\n",
    "        -0.01329318, -0.18089124, -0.22247075, -0.10012086,  0.57503971,\n",
    "         0.14550475]"
   ]
  },
  {
   "cell_type": "code",
   "execution_count": 67,
   "id": "52694355",
   "metadata": {},
   "outputs": [],
   "source": [
    "# label = X_test.columns.copy()\n",
    "label = ['blueGold', 'blueMinionsKilled', 'blueJungleMin', 'blueAvgLevel',\n",
    "       'redGold', 'redMinionsKilled', 'redJungleMinionsKilled', 'redAvgLevel',\n",
    "       'blueChampKills', 'blueHeraldKills', 'blueTowersDestroyed',\n",
    "       'redChampKills', 'redHeraldKills', 'redTowersDestroyed',\n",
    "       'blueGold_Diff', 'blueChamp_Kills_Diff']"
   ]
  },
  {
   "cell_type": "code",
   "execution_count": 68,
   "id": "ec5881ca",
   "metadata": {},
   "outputs": [],
   "source": [
    "dataset = pd.DataFrame({'label': label, 'coefficients': coefficients}, columns=['label', 'coefficients'])"
   ]
  },
  {
   "cell_type": "code",
   "execution_count": 105,
   "id": "39a4a724",
   "metadata": {},
   "outputs": [
    {
     "data": {
      "image/png": "[encoded data removed]",
      "text/plain": [
       "<Figure size 432x288 with 1 Axes>"
      ]
     },
     "metadata": {
      "needs_background": "light"
     },
     "output_type": "display_data"
    }
   ],
   "source": [
    "coef_fig = plt.bar(x=dataset['label'], height=dataset['coefficients'])\n",
    "plt.xticks(rotation=90)\n",
    "plt.ylabel('Beta Increase in Log Odds')\n",
    "plt.title('Coefficient Increase in Log Odds for Each Feature')\n",
    "plt.ticklabel_format(axis='y', style='plain')\n",
    "coef_fig[4].set_color('r')\n",
    "coef_fig[5].set_color('r')\n",
    "coef_fig[6].set_color('r')\n",
    "coef_fig[7].set_color('r')\n",
    "coef_fig[10].set_color('r')\n",
    "coef_fig[11].set_color('r')\n",
    "coef_fig[12].set_color('r')\n",
    "coef_fig[13].set_color('r')\n",
    "plt.savefig('figures/coefficients.svg', bbox_inches = 'tight')\n",
    "plt.savefig('figures/coefficients.png', bbox_inches = 'tight')"
   ]
  },
  {
   "cell_type": "code",
   "execution_count": 115,
   "id": "85dd6424",
   "metadata": {},
   "outputs": [
    {
     "data": {
      "image/png": "[encoded data removed]",
      "text/plain": [
       "<Figure size 600x400 with 2 Axes>"
      ]
     },
     "metadata": {
      "needs_background": "light"
     },
     "output_type": "display_data"
    }
   ],
   "source": [
    "plt.figure(dpi=100);\n",
    "sns.heatmap(log_reg_confuse, cmap=plt.cm.Blues, annot=True, square=True, fmt='d',\n",
    "           xticklabels=['loss', 'win'],\n",
    "           yticklabels=['loss', 'win']);\n",
    "plt.xlabel('prediction');\n",
    "plt.ylabel('actual');\n",
    "plt.title('Logistic Regression Confusion Matrix for All Features');\n",
    "plt.savefig('figures/final_log_reg_confusion_matrix.svg', bbox_inches = 'tight')\n",
    "plt.savefig('figures/final_log_reg_confusion_matrix.png', bbox_inches = 'tight')"
   ]
  },
  {
   "cell_type": "code",
   "execution_count": 117,
   "id": "19598341",
   "metadata": {},
   "outputs": [
    {
     "data": {
      "image/png": "[encoded data removed]",
      "text/plain": [
       "<Figure size 600x400 with 2 Axes>"
      ]
     },
     "metadata": {
      "needs_background": "light"
     },
     "output_type": "display_data"
    }
   ],
   "source": [
    "plt.figure(dpi=100);\n",
    "sns.heatmap(log_train_confuse, cmap=plt.cm.Blues, annot=True, square=True, fmt='d',\n",
    "           xticklabels=['loss', 'win'],\n",
    "           yticklabels=['loss', 'win']);\n",
    "plt.xlabel('prediction');\n",
    "plt.ylabel('actual');\n",
    "plt.title('Logistic Regression Confusion Matrix for All Features (Training)');\n",
    "plt.savefig('figures/log_reg_confusion_matrix_train.svg', bbox_inches = 'tight')\n",
    "plt.savefig('figures/log_reg_confusion_matrix_train.png', bbox_inches = 'tight')"
   ]
  },
  {
   "cell_type": "code",
   "execution_count": 108,
   "id": "5d28b82a",
   "metadata": {},
   "outputs": [
    {
     "data": {
      "image/png": "[encoded data removed]",
      "text/plain": [
       "<Figure size 600x400 with 2 Axes>"
      ]
     },
     "metadata": {
      "needs_background": "light"
     },
     "output_type": "display_data"
    }
   ],
   "source": [
    "plt.figure(dpi=100);\n",
    "sns.heatmap(tree_confuse, cmap=plt.cm.Blues, annot=True, square=True, fmt='d',\n",
    "           xticklabels=['loss', 'win'],\n",
    "           yticklabels=['loss', 'win']);\n",
    "plt.xlabel('prediction');\n",
    "plt.ylabel('actual');\n",
    "plt.title('Regression Tree Confusion Matrix for All Features (Training)');\n",
    "plt.savefig('figures/tree_confusion_matrix_train.svg', bbox_inches = 'tight')\n",
    "plt.savefig('figures/tree_confusion_matrix_train.png', bbox_inches = 'tight')"
   ]
  },
  {
   "cell_type": "code",
   "execution_count": null,
   "id": "6187746a",
   "metadata": {},
   "outputs": [],
   "source": []
  }
 ],
 "metadata": {
  "kernelspec": {
   "display_name": "Python [conda env:metis] *",
   "language": "python",
   "name": "conda-env-metis-py"
  },
  "language_info": {
   "codemirror_mode": {
    "name": "ipython",
    "version": 3
   },
   "file_extension": ".py",
   "mimetype": "text/x-python",
   "name": "python",
   "nbconvert_exporter": "python",
   "pygments_lexer": "ipython3",
   "version": "3.8.10"
  }
 },
 "nbformat": 4,
 "nbformat_minor": 5
}
